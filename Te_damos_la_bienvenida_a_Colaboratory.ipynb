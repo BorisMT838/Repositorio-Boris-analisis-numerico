{
  "cells": [
    {
      "cell_type": "markdown",
      "metadata": {
        "id": "view-in-github",
        "colab_type": "text"
      },
      "source": [
        "<a href=\"https://colab.research.google.com/github/BorisMT838/Repositorio-Boris-analisis-numerico/blob/main/Te_damos_la_bienvenida_a_Colaboratory.ipynb\" target=\"_parent\"><img src=\"https://colab.research.google.com/assets/colab-badge.svg\" alt=\"Open In Colab\"/></a>"
      ]
    },
    {
      "cell_type": "markdown",
      "source": [],
      "metadata": {
        "id": "0SxNOd1w_UQp"
      }
    },
    {
      "cell_type": "markdown",
      "source": [
        "#math\n",
        "Se utiliza para realizar operaciones matemáticas básicas con números escalares.\n"
      ],
      "metadata": {
        "id": "Ao4rrKirCB_e"
      }
    },
    {
      "cell_type": "code",
      "source": [
        "import math #instruccion para llamar la biblioteca\n",
        "x=16 #declaracion de variable\n",
        "resultado=math.sqrt(x) #funcion raíz cuadrada\n",
        "print(\"la raiz cuadrada de 16 es: \", resultado)"
      ],
      "metadata": {
        "id": "cS631y8lCHPc"
      },
      "execution_count": null,
      "outputs": []
    },
    {
      "cell_type": "markdown",
      "source": [
        "#numpy\n",
        "Se utiliza para trabajar con arreglos y realizar operaciones matemáticas de manera eficiente.\n"
      ],
      "metadata": {
        "id": "BCZck0q-FgBe"
      }
    },
    {
      "cell_type": "code",
      "source": [
        "import numpy as np\n",
        "\n",
        "arr=np.array([1,2,3,4])\n",
        "#realizar una operación sobre el array\n",
        "squared = np.sqrt(arr) #raiz cuadrada de cada elemento\n",
        "print(\"las raíces cuadradas de los elementos son:  \", squared)"
      ],
      "metadata": {
        "id": "ZGh9ggguFrYB"
      },
      "execution_count": null,
      "outputs": []
    },
    {
      "cell_type": "markdown",
      "source": [
        "#matplotlib.pyplot\n",
        "Se utiliza para crear gráficos y visualizar datos.\n"
      ],
      "metadata": {
        "id": "NgVsUYK1Go2g"
      }
    },
    {
      "cell_type": "code",
      "source": [
        "import matplotlib.pyplot as plt\n",
        "\n",
        "x=np.linspace(-10, 10, 100) #generar 100 puntos de -10 a 10\n",
        "y=x**2 #funcion cuadrática\n",
        "plt.plot(x,y)\n",
        "plt.title(\"grafico de f(x)=x^2\")\n",
        "plt.xlabel(\"x\")\n",
        "plt.ylabel(\"f(x)\")\n",
        "plt.grid(True)\n",
        "plt.show()"
      ],
      "metadata": {
        "id": "mjG_kUSuGtiF"
      },
      "execution_count": null,
      "outputs": []
    },
    {
      "cell_type": "markdown",
      "source": [
        "#scipy\n",
        "Permite realizar optimización y encontrar raíces de funciones.\n"
      ],
      "metadata": {
        "id": "qWTl6Js6Ipft"
      }
    },
    {
      "cell_type": "code",
      "source": [
        "import scipy.optimize as opt\n",
        "\n",
        "def f(x):\n",
        "  return x**2 - 4 #raiz de esta función es 2\n",
        "\n",
        "# Encontrar"
      ],
      "metadata": {
        "id": "8-bGZcqFIwo9"
      },
      "execution_count": null,
      "outputs": []
    }
  ],
  "metadata": {
    "colab": {
      "name": "Te damos la bienvenida a Colaboratory",
      "toc_visible": true,
      "provenance": [],
      "include_colab_link": true
    },
    "kernelspec": {
      "display_name": "Python 3",
      "name": "python3"
    }
  },
  "nbformat": 4,
  "nbformat_minor": 0
}